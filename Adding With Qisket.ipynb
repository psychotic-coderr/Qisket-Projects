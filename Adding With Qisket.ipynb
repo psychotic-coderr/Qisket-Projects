{
 "cells": [
  {
   "cell_type": "code",
   "execution_count": 7,
   "metadata": {},
   "outputs": [
    {
     "data": {
      "text/plain": [
       "'0.16.4'"
      ]
     },
     "execution_count": 7,
     "metadata": {},
     "output_type": "execute_result"
    }
   ],
   "source": [
    "from qiskit import *\n",
    "qiskit.__version__"
   ]
  },
  {
   "cell_type": "code",
   "execution_count": 8,
   "metadata": {},
   "outputs": [],
   "source": [
    "qc = QuantumCircuit(4, 2)"
   ]
  },
  {
   "cell_type": "code",
   "execution_count": 9,
   "metadata": {},
   "outputs": [
    {
     "data": {
      "text/html": [
       "<pre style=\"word-wrap: normal;white-space: pre;background: #fff0;line-height: 1.1;font-family: &quot;Courier New&quot;,Courier,monospace\">     ┌───┐ ░ \n",
       "q_0: ┤ X ├─░─\n",
       "     ├───┤ ░ \n",
       "q_1: ┤ X ├─░─\n",
       "     └───┘ ░ \n",
       "q_2: ──────░─\n",
       "           ░ \n",
       "q_3: ──────░─\n",
       "           ░ \n",
       "c: 2/════════\n",
       "             </pre>"
      ],
      "text/plain": [
       "     ┌───┐ ░ \n",
       "q_0: ┤ X ├─░─\n",
       "     ├───┤ ░ \n",
       "q_1: ┤ X ├─░─\n",
       "     └───┘ ░ \n",
       "q_2: ──────░─\n",
       "           ░ \n",
       "q_3: ──────░─\n",
       "           ░ \n",
       "c: 2/════════\n",
       "             "
      ]
     },
     "execution_count": 9,
     "metadata": {},
     "output_type": "execute_result"
    }
   ],
   "source": [
    "qc.x(0)\n",
    "qc.x(1)\n",
    "qc.barrier()\n",
    "qc.draw()"
   ]
  },
  {
   "cell_type": "code",
   "execution_count": 10,
   "metadata": {},
   "outputs": [
    {
     "data": {
      "text/html": [
       "<pre style=\"word-wrap: normal;white-space: pre;background: #fff0;line-height: 1.1;font-family: &quot;Courier New&quot;,Courier,monospace\">     ┌───┐ ░            ░ \n",
       "q_0: ┤ X ├─░───■────────░─\n",
       "     ├───┤ ░   │        ░ \n",
       "q_1: ┤ X ├─░───┼────■───░─\n",
       "     └───┘ ░ ┌─┴─┐┌─┴─┐ ░ \n",
       "q_2: ──────░─┤ X ├┤ X ├─░─\n",
       "           ░ └───┘└───┘ ░ \n",
       "q_3: ──────░────────────░─\n",
       "           ░            ░ \n",
       "c: 2/═════════════════════\n",
       "                          </pre>"
      ],
      "text/plain": [
       "     ┌───┐ ░            ░ \n",
       "q_0: ┤ X ├─░───■────────░─\n",
       "     ├───┤ ░   │        ░ \n",
       "q_1: ┤ X ├─░───┼────■───░─\n",
       "     └───┘ ░ ┌─┴─┐┌─┴─┐ ░ \n",
       "q_2: ──────░─┤ X ├┤ X ├─░─\n",
       "           ░ └───┘└───┘ ░ \n",
       "q_3: ──────░────────────░─\n",
       "           ░            ░ \n",
       "c: 2/═════════════════════\n",
       "                          "
      ]
     },
     "execution_count": 10,
     "metadata": {},
     "output_type": "execute_result"
    }
   ],
   "source": [
    "qc.cx(0, 2)\n",
    "qc.cx(1, 2)\n",
    "qc.barrier()\n",
    "qc.draw()"
   ]
  },
  {
   "cell_type": "code",
   "execution_count": 11,
   "metadata": {},
   "outputs": [
    {
     "data": {
      "text/plain": [
       "<qiskit.circuit.instructionset.InstructionSet at 0x1ee81204f70>"
      ]
     },
     "execution_count": 11,
     "metadata": {},
     "output_type": "execute_result"
    }
   ],
   "source": [
    "qc.ccx(0, 1, 3)\n",
    "qc.barrier()"
   ]
  },
  {
   "cell_type": "code",
   "execution_count": 12,
   "metadata": {},
   "outputs": [
    {
     "data": {
      "text/html": [
       "<pre style=\"word-wrap: normal;white-space: pre;background: #fff0;line-height: 1.1;font-family: &quot;Courier New&quot;,Courier,monospace\">     ┌───┐ ░            ░       ░ \n",
       "q_0: ┤ X ├─░───■────────░───■───░─\n",
       "     ├───┤ ░   │        ░   │   ░ \n",
       "q_1: ┤ X ├─░───┼────■───░───■───░─\n",
       "     └───┘ ░ ┌─┴─┐┌─┴─┐ ░   │   ░ \n",
       "q_2: ──────░─┤ X ├┤ X ├─░───┼───░─\n",
       "           ░ └───┘└───┘ ░ ┌─┴─┐ ░ \n",
       "q_3: ──────░────────────░─┤ X ├─░─\n",
       "           ░            ░ └───┘ ░ \n",
       "c: 2/═════════════════════════════\n",
       "                                  </pre>"
      ],
      "text/plain": [
       "     ┌───┐ ░            ░       ░ \n",
       "q_0: ┤ X ├─░───■────────░───■───░─\n",
       "     ├───┤ ░   │        ░   │   ░ \n",
       "q_1: ┤ X ├─░───┼────■───░───■───░─\n",
       "     └───┘ ░ ┌─┴─┐┌─┴─┐ ░   │   ░ \n",
       "q_2: ──────░─┤ X ├┤ X ├─░───┼───░─\n",
       "           ░ └───┘└───┘ ░ ┌─┴─┐ ░ \n",
       "q_3: ──────░────────────░─┤ X ├─░─\n",
       "           ░            ░ └───┘ ░ \n",
       "c: 2/═════════════════════════════\n",
       "                                  "
      ]
     },
     "execution_count": 12,
     "metadata": {},
     "output_type": "execute_result"
    }
   ],
   "source": [
    "qc.draw()"
   ]
  },
  {
   "cell_type": "code",
   "execution_count": 13,
   "metadata": {},
   "outputs": [
    {
     "data": {
      "text/html": [
       "<pre style=\"word-wrap: normal;white-space: pre;background: #fff0;line-height: 1.1;font-family: &quot;Courier New&quot;,Courier,monospace\">     ┌───┐ ░            ░       ░       \n",
       "q_0: ┤ X ├─░───■────────░───■───░───────\n",
       "     ├───┤ ░   │        ░   │   ░       \n",
       "q_1: ┤ X ├─░───┼────■───░───■───░───────\n",
       "     └───┘ ░ ┌─┴─┐┌─┴─┐ ░   │   ░ ┌─┐   \n",
       "q_2: ──────░─┤ X ├┤ X ├─░───┼───░─┤M├───\n",
       "           ░ └───┘└───┘ ░ ┌─┴─┐ ░ └╥┘┌─┐\n",
       "q_3: ──────░────────────░─┤ X ├─░──╫─┤M├\n",
       "           ░            ░ └───┘ ░  ║ └╥┘\n",
       "c: 2/══════════════════════════════╩══╩═\n",
       "                                   0  1 </pre>"
      ],
      "text/plain": [
       "     ┌───┐ ░            ░       ░       \n",
       "q_0: ┤ X ├─░───■────────░───■───░───────\n",
       "     ├───┤ ░   │        ░   │   ░       \n",
       "q_1: ┤ X ├─░───┼────■───░───■───░───────\n",
       "     └───┘ ░ ┌─┴─┐┌─┴─┐ ░   │   ░ ┌─┐   \n",
       "q_2: ──────░─┤ X ├┤ X ├─░───┼───░─┤M├───\n",
       "           ░ └───┘└───┘ ░ ┌─┴─┐ ░ └╥┘┌─┐\n",
       "q_3: ──────░────────────░─┤ X ├─░──╫─┤M├\n",
       "           ░            ░ └───┘ ░  ║ └╥┘\n",
       "c: 2/══════════════════════════════╩══╩═\n",
       "                                   0  1 "
      ]
     },
     "execution_count": 13,
     "metadata": {},
     "output_type": "execute_result"
    }
   ],
   "source": [
    "qc.measure(2, 0)\n",
    "qc.measure(3, 1)\n",
    "qc.draw()"
   ]
  },
  {
   "cell_type": "code",
   "execution_count": 16,
   "metadata": {},
   "outputs": [],
   "source": [
    "simulator = Aer.get_backend('qasm_simulator')\n",
    "result = execute(qc, backend = simulator, shots = 1024).result()\n",
    "counts = result.get_counts()"
   ]
  },
  {
   "cell_type": "code",
   "execution_count": 17,
   "metadata": {},
   "outputs": [
    {
     "data": {
      "image/png": "[encoded data removed]",
      "text/plain": [
       "<Figure size 504x360 with 1 Axes>"
      ]
     },
     "execution_count": 17,
     "metadata": {},
     "output_type": "execute_result"
    }
   ],
   "source": [
    "from qiskit.tools.visualization import plot_histogram\n",
    "plot_histogram(counts)"
   ]
  }
 ],
 "metadata": {
  "kernelspec": {
   "display_name": "Python 3",
   "language": "python",
   "name": "python3"
  },
  "language_info": {
   "codemirror_mode": {
    "name": "ipython",
    "version": 3
   },
   "file_extension": ".py",
   "mimetype": "text/x-python",
   "name": "python",
   "nbconvert_exporter": "python",
   "pygments_lexer": "ipython3",
   "version": "3.8.5"
  }
 },
 "nbformat": 4,
 "nbformat_minor": 4
}
